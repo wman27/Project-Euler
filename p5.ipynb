{
 "cells": [
  {
   "cell_type": "code",
   "execution_count": 1,
   "metadata": {
    "collapsed": true
   },
   "outputs": [],
   "source": [
    "#2520 is the smallest number that can be divided by each of the numbers from 1 to 10 without any remainder.\n",
    "\n",
    "#What is the smallest positive number that is evenly divisible by all of the numbers from 1 to 20?"
   ]
  },
  {
   "cell_type": "code",
   "execution_count": 61,
   "metadata": {
    "collapsed": false
   },
   "outputs": [
    {
     "name": "stdout",
     "output_type": "stream",
     "text": [
      "\n",
      "\n",
      "[2, 3, 5, 7, 11, 13, 17, 19]\n",
      "\n",
      "\n",
      "[4, 2, 1, 1, 1, 1, 1, 1]\n",
      "\n",
      "\n",
      "232792560\n"
     ]
    },
    {
     "data": {
      "text/plain": [
       "[1, 2, 3, 4, 5, 6, 7, 8, 9, 10, 11, 12, 13, 14, 15, 16, 17, 18, 19, 20]"
      ]
     },
     "execution_count": 61,
     "metadata": {},
     "output_type": "execute_result"
    }
   ],
   "source": [
    "lst = []\n",
    "\n",
    "for num in range(1,21):\n",
    "    factors =[]\n",
    "    for num2 in range(1,num+1):\n",
    "        if num % num2 ==0:\n",
    "            factors.append(num2)\n",
    "    if len(factors)>1 and len(factors)<=2:\n",
    "        lst.append(factors[1])\n",
    "print('\\n')\n",
    "print(lst)\n",
    "print('\\n')\n",
    "\n",
    "powers = []\n",
    "for primes in lst:\n",
    "    pw =[]\n",
    "    for num in range(10):\n",
    "        if primes ** num <21:\n",
    "            pw.append(num)\n",
    "    powers.append(max(pw))\n",
    "print(powers)\n",
    "\n",
    "product = []\n",
    "for primes in lst:\n",
    "    val = primes ** powers[lst.index(primes)]\n",
    "    product.append(val)\n",
    "from functools import reduce\n",
    "tea = reduce(lambda x,y : x*y, product )\n",
    "print('\\n')\n",
    "print(tea)\n",
    "list(filter(lambda x: tea % x==0, range(1,21)))"
   ]
  },
  {
   "cell_type": "code",
   "execution_count": null,
   "metadata": {
    "collapsed": false
   },
   "outputs": [],
   "source": []
  },
  {
   "cell_type": "code",
   "execution_count": 64,
   "metadata": {
    "collapsed": false
   },
   "outputs": [
    {
     "name": "stdout",
     "output_type": "stream",
     "text": [
      "232792560\n"
     ]
    }
   ],
   "source": [
    "i = 1\n",
    "for k in (range(1, 21)):\n",
    "    if i % k > 0:\n",
    "        for j in range(1, 21):\n",
    "            if (i*j) % k == 0:\n",
    "                i *= j\n",
    "                break\n",
    "print(i)\n"
   ]
  },
  {
   "cell_type": "code",
   "execution_count": null,
   "metadata": {
    "collapsed": true
   },
   "outputs": [],
   "source": []
  }
 ],
 "metadata": {
  "anaconda-cloud": {},
  "kernelspec": {
   "display_name": "Python [default]",
   "language": "python",
   "name": "python3"
  },
  "language_info": {
   "codemirror_mode": {
    "name": "ipython",
    "version": 3
   },
   "file_extension": ".py",
   "mimetype": "text/x-python",
   "name": "python",
   "nbconvert_exporter": "python",
   "pygments_lexer": "ipython3",
   "version": "3.5.2"
  }
 },
 "nbformat": 4,
 "nbformat_minor": 1
}
