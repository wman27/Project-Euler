{
 "cells": [
  {
   "cell_type": "code",
   "execution_count": 2,
   "metadata": {
    "collapsed": false
   },
   "outputs": [],
   "source": [
    "#The sum of the squares of the first ten natural numbers is,\n",
    "#1**2 + 2**2 + ... + 10**2 = 385\n",
    "\n",
    "#The square of the sum of the first ten natural numbers is,\n",
    "#(1 + 2 + ... + 10)**2 = 55**2 = 3025\n",
    "\n",
    "#Hence the difference between the sum of the squares of the first ten natural numbers and the square of the sum is\n",
    "#3025 − 385 = 2640.\n",
    "\n",
    "#Find the difference between the sum of the squares of the first one hundred natural numbers and the square of the sum."
   ]
  },
  {
   "cell_type": "code",
   "execution_count": 3,
   "metadata": {
    "collapsed": false
   },
   "outputs": [
    {
     "name": "stdout",
     "output_type": "stream",
     "text": [
      "25164150\n"
     ]
    }
   ],
   "source": [
    "a = 0\n",
    "b = 0\n",
    "for num in range(101):\n",
    "    a += num**2\n",
    "    b += num\n",
    "print(b**2 - a)"
   ]
  },
  {
   "cell_type": "code",
   "execution_count": null,
   "metadata": {
    "collapsed": true
   },
   "outputs": [],
   "source": []
  }
 ],
 "metadata": {
  "anaconda-cloud": {},
  "kernelspec": {
   "display_name": "Python [default]",
   "language": "python",
   "name": "python3"
  },
  "language_info": {
   "codemirror_mode": {
    "name": "ipython",
    "version": 3
   },
   "file_extension": ".py",
   "mimetype": "text/x-python",
   "name": "python",
   "nbconvert_exporter": "python",
   "pygments_lexer": "ipython3",
   "version": "3.5.2"
  }
 },
 "nbformat": 4,
 "nbformat_minor": 1
}
